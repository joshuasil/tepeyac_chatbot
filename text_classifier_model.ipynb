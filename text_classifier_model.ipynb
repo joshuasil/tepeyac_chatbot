{
 "cells": [
  {
   "cell_type": "code",
   "execution_count": 189,
   "metadata": {},
   "outputs": [
    {
     "name": "stderr",
     "output_type": "stream",
     "text": [
      "[nltk_data] Downloading package stopwords to\n",
      "[nltk_data]     /Users/joshvasilvasstar/nltk_data...\n",
      "[nltk_data]   Package stopwords is already up-to-date!\n"
     ]
    },
    {
     "data": {
      "text/plain": [
       "True"
      ]
     },
     "execution_count": 189,
     "metadata": {},
     "output_type": "execute_result"
    }
   ],
   "source": [
    "import pandas as pd\n",
    "import numpy as np\n",
    "import pickle\n",
    "\n",
    "\n",
    "import re\n",
    "import nltk\n",
    "from nltk.corpus import stopwords\n",
    "\n",
    "from tensorflow.keras.preprocessing.text import Tokenizer\n",
    "from tensorflow.keras.preprocessing.sequence import pad_sequences\n",
    "from sklearn.model_selection import train_test_split\n",
    "from tensorflow.keras.models import Sequential, model_from_json\n",
    "\n",
    "import tensorflow as tf\n",
    "from tensorflow import keras\n",
    " \n",
    "nltk.download('stopwords')"
   ]
  },
  {
   "cell_type": "code",
   "execution_count": 172,
   "metadata": {},
   "outputs": [
    {
     "name": "stdout",
     "output_type": "stream",
     "text": [
      "<class 'pandas.core.frame.DataFrame'>\n",
      "RangeIndex: 5125 entries, 0 to 5124\n",
      "Data columns (total 2 columns):\n",
      " #   Column    Non-Null Count  Dtype \n",
      "---  ------    --------------  ----- \n",
      " 0   question  5125 non-null   object\n",
      " 1   topic     5125 non-null   object\n",
      "dtypes: object(2)\n",
      "memory usage: 80.2+ KB\n"
     ]
    }
   ],
   "source": [
    "df = pd.read_csv('model_training.csv')\n",
    "df.info()"
   ]
  },
  {
   "cell_type": "code",
   "execution_count": 195,
   "metadata": {},
   "outputs": [],
   "source": [
    "data = pd.read_excel('responses.xlsx',engine='openpyxl')\n",
    "# Create a dictionary from columns A and B\n",
    "intent_dict = dict(zip(data['intent'], data['dialog']))\n",
    "# Save the dictionary to a pickle file\n",
    "with open('intent_dict.pkl', 'wb') as file:\n",
    "    pickle.dump(intent_dict, file)\n",
    "\n",
    "intent_dict_es = dict(zip(data['intent'], data['dialog_es']))\n",
    "# Save the dictionary to a pickle file\n",
    "with open('intent_dict_es.pkl', 'wb') as file:\n",
    "    pickle.dump(intent_dict_es, file)"
   ]
  },
  {
   "cell_type": "code",
   "execution_count": 173,
   "metadata": {},
   "outputs": [],
   "source": [
    "df = df.reset_index(drop=True)\n",
    "REPLACE_BY_SPACE_RE = re.compile('[/(){}\\[\\]\\|@,;]')\n",
    "BAD_SYMBOLS_RE = re.compile('[^0-9a-z #+_]')\n",
    "STOPWORDS = set(stopwords.words('english'))\n",
    "\n",
    "def clean_text(text):\n",
    "    \"\"\"\n",
    "        text: a string\n",
    "        \n",
    "        return: modified initial string\n",
    "    \"\"\"\n",
    "    text = text.lower() # lowercase text\n",
    "    text = REPLACE_BY_SPACE_RE.sub(' ', text) # replace REPLACE_BY_SPACE_RE symbols by space in text. substitute the matched string in REPLACE_BY_SPACE_RE with space.\n",
    "    text = BAD_SYMBOLS_RE.sub('', text) # remove symbols which are in BAD_SYMBOLS_RE from text. substitute the matched string in BAD_SYMBOLS_RE with nothing. \n",
    "    text = text.replace('x', '')\n",
    "    # text = re.sub(r'\\W+', '', text)\n",
    "    text = ' '.join(word for word in text.split() if word not in STOPWORDS) # remove stopwors from text\n",
    "    return text\n",
    "df['question'] = df['question'].apply(clean_text)\n",
    "df['question'] = df['question'].str.replace('\\d+', '')"
   ]
  },
  {
   "cell_type": "code",
   "execution_count": 174,
   "metadata": {},
   "outputs": [
    {
     "name": "stdout",
     "output_type": "stream",
     "text": [
      "Found 3009 unique tokens.\n"
     ]
    }
   ],
   "source": [
    "# The maximum number of words to be used. (most frequent)\n",
    "MAX_NB_WORDS = 50000\n",
    "# Max number of words in each complaint.\n",
    "MAX_SEQUENCE_LENGTH = 125\n",
    "# This is fixed.\n",
    "EMBEDDING_DIM = 100\n",
    "tokenizer = Tokenizer(num_words=MAX_NB_WORDS, filters='!\"#$%&()*+,-./:;<=>?@[\\]^_`{|}~', lower=True)\n",
    "tokenizer.fit_on_texts(df['question'].values)\n",
    "word_index = tokenizer.word_index\n",
    "print('Found %s unique tokens.' % len(word_index))"
   ]
  },
  {
   "cell_type": "code",
   "execution_count": 175,
   "metadata": {},
   "outputs": [
    {
     "name": "stdout",
     "output_type": "stream",
     "text": [
      "Shape of data tensor: (5125, 125)\n"
     ]
    }
   ],
   "source": [
    "X = tokenizer.texts_to_sequences(df['question'].values)\n",
    "X = pad_sequences(X, maxlen=MAX_SEQUENCE_LENGTH)\n",
    "print('Shape of data tensor:', X.shape)"
   ]
  },
  {
   "cell_type": "code",
   "execution_count": 176,
   "metadata": {},
   "outputs": [],
   "source": [
    "with open('tokenizer.pkl', 'wb') as token_file:\n",
    "    pickle.dump(tokenizer, token_file)"
   ]
  },
  {
   "cell_type": "code",
   "execution_count": 177,
   "metadata": {},
   "outputs": [
    {
     "name": "stdout",
     "output_type": "stream",
     "text": [
      "Shape of label tensor: (5125, 245)\n"
     ]
    }
   ],
   "source": [
    "Y = pd.get_dummies(df['topic']).values\n",
    "print('Shape of label tensor:', Y.shape)"
   ]
  },
  {
   "cell_type": "code",
   "execution_count": 178,
   "metadata": {},
   "outputs": [
    {
     "data": {
      "text/html": [
       "<div>\n",
       "<style scoped>\n",
       "    .dataframe tbody tr th:only-of-type {\n",
       "        vertical-align: middle;\n",
       "    }\n",
       "\n",
       "    .dataframe tbody tr th {\n",
       "        vertical-align: top;\n",
       "    }\n",
       "\n",
       "    .dataframe thead th {\n",
       "        text-align: right;\n",
       "    }\n",
       "</style>\n",
       "<table border=\"1\" class=\"dataframe\">\n",
       "  <thead>\n",
       "    <tr style=\"text-align: right;\">\n",
       "      <th></th>\n",
       "      <th>am_i_eligible_to_be_screened_for_diabetes</th>\n",
       "      <th>am_i_eligible_to_be_screened_for_high_blood_pressure</th>\n",
       "      <th>am_i_eligible_to_get_my_cholesterol_screened</th>\n",
       "      <th>am_i_eligible_to_get_screened_for_diabetes_and_high_blood_pressure</th>\n",
       "      <th>am_i_eligible_to_get_screened_for_diabetes_and_high_cholesterol</th>\n",
       "      <th>am_i_eligible_to_get_screened_for_diabetes_high_blood_pressure_and_high_cholesterol</th>\n",
       "      <th>am_i_eligible_to_get_screened_for_high_blood_pressure_and_high_cholesterol</th>\n",
       "      <th>am_i_eligible_to_get_the_hpv_vaccine</th>\n",
       "      <th>are_there_cancer_support_groups_that_are_for_the_latino_community</th>\n",
       "      <th>are_there_differences_in_who_gets_breast_cancer</th>\n",
       "      <th>...</th>\n",
       "      <th>why_should_i_eat_healthy</th>\n",
       "      <th>why_should_i_get_screened_for_diabetes</th>\n",
       "      <th>why_should_i_get_screened_for_diabetes_and_high_blood_pressure</th>\n",
       "      <th>why_should_i_get_screened_for_diabetes_and_high_cholesterol</th>\n",
       "      <th>why_should_i_get_screened_for_diabetes_high_blood_pressure_and_high_cholesterol</th>\n",
       "      <th>why_should_i_get_screened_for_high_blood_pressure</th>\n",
       "      <th>why_should_i_get_screened_for_high_blood_pressure_and_high_cholesterol</th>\n",
       "      <th>why_should_i_get_screened_for_high_cholesterol</th>\n",
       "      <th>why_should_i_set_physical_activity_goals</th>\n",
       "      <th>why_should_i_take_the_medications_im_prescribed</th>\n",
       "    </tr>\n",
       "  </thead>\n",
       "  <tbody>\n",
       "    <tr>\n",
       "      <th>0</th>\n",
       "      <td>True</td>\n",
       "      <td>False</td>\n",
       "      <td>False</td>\n",
       "      <td>False</td>\n",
       "      <td>False</td>\n",
       "      <td>False</td>\n",
       "      <td>False</td>\n",
       "      <td>False</td>\n",
       "      <td>False</td>\n",
       "      <td>False</td>\n",
       "      <td>...</td>\n",
       "      <td>False</td>\n",
       "      <td>False</td>\n",
       "      <td>False</td>\n",
       "      <td>False</td>\n",
       "      <td>False</td>\n",
       "      <td>False</td>\n",
       "      <td>False</td>\n",
       "      <td>False</td>\n",
       "      <td>False</td>\n",
       "      <td>False</td>\n",
       "    </tr>\n",
       "    <tr>\n",
       "      <th>1</th>\n",
       "      <td>True</td>\n",
       "      <td>False</td>\n",
       "      <td>False</td>\n",
       "      <td>False</td>\n",
       "      <td>False</td>\n",
       "      <td>False</td>\n",
       "      <td>False</td>\n",
       "      <td>False</td>\n",
       "      <td>False</td>\n",
       "      <td>False</td>\n",
       "      <td>...</td>\n",
       "      <td>False</td>\n",
       "      <td>False</td>\n",
       "      <td>False</td>\n",
       "      <td>False</td>\n",
       "      <td>False</td>\n",
       "      <td>False</td>\n",
       "      <td>False</td>\n",
       "      <td>False</td>\n",
       "      <td>False</td>\n",
       "      <td>False</td>\n",
       "    </tr>\n",
       "    <tr>\n",
       "      <th>2</th>\n",
       "      <td>True</td>\n",
       "      <td>False</td>\n",
       "      <td>False</td>\n",
       "      <td>False</td>\n",
       "      <td>False</td>\n",
       "      <td>False</td>\n",
       "      <td>False</td>\n",
       "      <td>False</td>\n",
       "      <td>False</td>\n",
       "      <td>False</td>\n",
       "      <td>...</td>\n",
       "      <td>False</td>\n",
       "      <td>False</td>\n",
       "      <td>False</td>\n",
       "      <td>False</td>\n",
       "      <td>False</td>\n",
       "      <td>False</td>\n",
       "      <td>False</td>\n",
       "      <td>False</td>\n",
       "      <td>False</td>\n",
       "      <td>False</td>\n",
       "    </tr>\n",
       "    <tr>\n",
       "      <th>3</th>\n",
       "      <td>True</td>\n",
       "      <td>False</td>\n",
       "      <td>False</td>\n",
       "      <td>False</td>\n",
       "      <td>False</td>\n",
       "      <td>False</td>\n",
       "      <td>False</td>\n",
       "      <td>False</td>\n",
       "      <td>False</td>\n",
       "      <td>False</td>\n",
       "      <td>...</td>\n",
       "      <td>False</td>\n",
       "      <td>False</td>\n",
       "      <td>False</td>\n",
       "      <td>False</td>\n",
       "      <td>False</td>\n",
       "      <td>False</td>\n",
       "      <td>False</td>\n",
       "      <td>False</td>\n",
       "      <td>False</td>\n",
       "      <td>False</td>\n",
       "    </tr>\n",
       "    <tr>\n",
       "      <th>4</th>\n",
       "      <td>True</td>\n",
       "      <td>False</td>\n",
       "      <td>False</td>\n",
       "      <td>False</td>\n",
       "      <td>False</td>\n",
       "      <td>False</td>\n",
       "      <td>False</td>\n",
       "      <td>False</td>\n",
       "      <td>False</td>\n",
       "      <td>False</td>\n",
       "      <td>...</td>\n",
       "      <td>False</td>\n",
       "      <td>False</td>\n",
       "      <td>False</td>\n",
       "      <td>False</td>\n",
       "      <td>False</td>\n",
       "      <td>False</td>\n",
       "      <td>False</td>\n",
       "      <td>False</td>\n",
       "      <td>False</td>\n",
       "      <td>False</td>\n",
       "    </tr>\n",
       "  </tbody>\n",
       "</table>\n",
       "<p>5 rows × 245 columns</p>\n",
       "</div>"
      ],
      "text/plain": [
       "   am_i_eligible_to_be_screened_for_diabetes  \\\n",
       "0                                       True   \n",
       "1                                       True   \n",
       "2                                       True   \n",
       "3                                       True   \n",
       "4                                       True   \n",
       "\n",
       "   am_i_eligible_to_be_screened_for_high_blood_pressure  \\\n",
       "0                                              False      \n",
       "1                                              False      \n",
       "2                                              False      \n",
       "3                                              False      \n",
       "4                                              False      \n",
       "\n",
       "   am_i_eligible_to_get_my_cholesterol_screened  \\\n",
       "0                                         False   \n",
       "1                                         False   \n",
       "2                                         False   \n",
       "3                                         False   \n",
       "4                                         False   \n",
       "\n",
       "   am_i_eligible_to_get_screened_for_diabetes_and_high_blood_pressure  \\\n",
       "0                                              False                    \n",
       "1                                              False                    \n",
       "2                                              False                    \n",
       "3                                              False                    \n",
       "4                                              False                    \n",
       "\n",
       "   am_i_eligible_to_get_screened_for_diabetes_and_high_cholesterol  \\\n",
       "0                                              False                 \n",
       "1                                              False                 \n",
       "2                                              False                 \n",
       "3                                              False                 \n",
       "4                                              False                 \n",
       "\n",
       "   am_i_eligible_to_get_screened_for_diabetes_high_blood_pressure_and_high_cholesterol  \\\n",
       "0                                              False                                     \n",
       "1                                              False                                     \n",
       "2                                              False                                     \n",
       "3                                              False                                     \n",
       "4                                              False                                     \n",
       "\n",
       "   am_i_eligible_to_get_screened_for_high_blood_pressure_and_high_cholesterol  \\\n",
       "0                                              False                            \n",
       "1                                              False                            \n",
       "2                                              False                            \n",
       "3                                              False                            \n",
       "4                                              False                            \n",
       "\n",
       "   am_i_eligible_to_get_the_hpv_vaccine  \\\n",
       "0                                 False   \n",
       "1                                 False   \n",
       "2                                 False   \n",
       "3                                 False   \n",
       "4                                 False   \n",
       "\n",
       "   are_there_cancer_support_groups_that_are_for_the_latino_community  \\\n",
       "0                                              False                   \n",
       "1                                              False                   \n",
       "2                                              False                   \n",
       "3                                              False                   \n",
       "4                                              False                   \n",
       "\n",
       "   are_there_differences_in_who_gets_breast_cancer  ...  \\\n",
       "0                                            False  ...   \n",
       "1                                            False  ...   \n",
       "2                                            False  ...   \n",
       "3                                            False  ...   \n",
       "4                                            False  ...   \n",
       "\n",
       "   why_should_i_eat_healthy  why_should_i_get_screened_for_diabetes  \\\n",
       "0                     False                                   False   \n",
       "1                     False                                   False   \n",
       "2                     False                                   False   \n",
       "3                     False                                   False   \n",
       "4                     False                                   False   \n",
       "\n",
       "   why_should_i_get_screened_for_diabetes_and_high_blood_pressure  \\\n",
       "0                                              False                \n",
       "1                                              False                \n",
       "2                                              False                \n",
       "3                                              False                \n",
       "4                                              False                \n",
       "\n",
       "   why_should_i_get_screened_for_diabetes_and_high_cholesterol  \\\n",
       "0                                              False             \n",
       "1                                              False             \n",
       "2                                              False             \n",
       "3                                              False             \n",
       "4                                              False             \n",
       "\n",
       "   why_should_i_get_screened_for_diabetes_high_blood_pressure_and_high_cholesterol  \\\n",
       "0                                              False                                 \n",
       "1                                              False                                 \n",
       "2                                              False                                 \n",
       "3                                              False                                 \n",
       "4                                              False                                 \n",
       "\n",
       "   why_should_i_get_screened_for_high_blood_pressure  \\\n",
       "0                                              False   \n",
       "1                                              False   \n",
       "2                                              False   \n",
       "3                                              False   \n",
       "4                                              False   \n",
       "\n",
       "   why_should_i_get_screened_for_high_blood_pressure_and_high_cholesterol  \\\n",
       "0                                              False                        \n",
       "1                                              False                        \n",
       "2                                              False                        \n",
       "3                                              False                        \n",
       "4                                              False                        \n",
       "\n",
       "   why_should_i_get_screened_for_high_cholesterol  \\\n",
       "0                                           False   \n",
       "1                                           False   \n",
       "2                                           False   \n",
       "3                                           False   \n",
       "4                                           False   \n",
       "\n",
       "   why_should_i_set_physical_activity_goals  \\\n",
       "0                                     False   \n",
       "1                                     False   \n",
       "2                                     False   \n",
       "3                                     False   \n",
       "4                                     False   \n",
       "\n",
       "   why_should_i_take_the_medications_im_prescribed  \n",
       "0                                            False  \n",
       "1                                            False  \n",
       "2                                            False  \n",
       "3                                            False  \n",
       "4                                            False  \n",
       "\n",
       "[5 rows x 245 columns]"
      ]
     },
     "execution_count": 178,
     "metadata": {},
     "output_type": "execute_result"
    }
   ],
   "source": [
    "temp_df = pd.get_dummies(df['topic'])\n",
    "temp_df.head()"
   ]
  },
  {
   "cell_type": "code",
   "execution_count": 179,
   "metadata": {},
   "outputs": [],
   "source": [
    "reverse_mapping_dict = {i:col for i, col in enumerate(temp_df.columns)}\n",
    "# Save the reverse mapping dictionary to a pickle file\n",
    "with open('reverse_mapping.pkl', 'wb') as file:\n",
    "    pickle.dump(reverse_mapping_dict, file)"
   ]
  },
  {
   "cell_type": "code",
   "execution_count": 180,
   "metadata": {},
   "outputs": [
    {
     "name": "stdout",
     "output_type": "stream",
     "text": [
      "(4612, 125) (4612, 245)\n",
      "(513, 125) (513, 245)\n"
     ]
    }
   ],
   "source": [
    "X_train, X_test, Y_train, Y_test = train_test_split(X,Y, test_size = 0.10, random_state = 42)\n",
    "print(X_train.shape,Y_train.shape)\n",
    "print(X_test.shape,Y_test.shape)"
   ]
  },
  {
   "cell_type": "code",
   "execution_count": 181,
   "metadata": {},
   "outputs": [
    {
     "name": "stdout",
     "output_type": "stream",
     "text": [
      "Epoch 1/100\n",
      "104/104 [==============================] - 16s 146ms/step - loss: 5.4852 - accuracy: 0.0212 - val_loss: 5.4305 - val_accuracy: 0.0390\n",
      "Epoch 2/100\n",
      "104/104 [==============================] - 15s 149ms/step - loss: 5.0676 - accuracy: 0.0308 - val_loss: 4.6980 - val_accuracy: 0.0390\n",
      "Epoch 3/100\n",
      "104/104 [==============================] - 15s 147ms/step - loss: 4.1071 - accuracy: 0.1181 - val_loss: 3.7725 - val_accuracy: 0.1494\n",
      "Epoch 4/100\n",
      "104/104 [==============================] - 15s 149ms/step - loss: 3.2267 - accuracy: 0.2711 - val_loss: 3.0814 - val_accuracy: 0.2814\n",
      "Epoch 5/100\n",
      "104/104 [==============================] - 15s 146ms/step - loss: 2.5702 - accuracy: 0.4243 - val_loss: 2.6303 - val_accuracy: 0.3723\n",
      "Epoch 6/100\n",
      "104/104 [==============================] - 15s 144ms/step - loss: 2.0692 - accuracy: 0.5610 - val_loss: 2.3761 - val_accuracy: 0.3766\n",
      "Epoch 7/100\n",
      "104/104 [==============================] - 15s 147ms/step - loss: 1.7082 - accuracy: 0.6407 - val_loss: 2.1314 - val_accuracy: 0.4394\n",
      "Epoch 8/100\n",
      "104/104 [==============================] - 16s 151ms/step - loss: 1.4211 - accuracy: 0.7104 - val_loss: 1.9726 - val_accuracy: 0.4784\n",
      "Epoch 9/100\n",
      "104/104 [==============================] - 15s 143ms/step - loss: 1.2040 - accuracy: 0.7554 - val_loss: 1.8715 - val_accuracy: 0.4805\n",
      "Epoch 10/100\n",
      "104/104 [==============================] - 16s 150ms/step - loss: 1.0355 - accuracy: 0.7896 - val_loss: 1.8177 - val_accuracy: 0.5000\n",
      "Epoch 11/100\n",
      "104/104 [==============================] - 15s 147ms/step - loss: 0.9005 - accuracy: 0.8176 - val_loss: 1.7592 - val_accuracy: 0.5130\n",
      "Epoch 12/100\n",
      "104/104 [==============================] - 15s 148ms/step - loss: 0.7821 - accuracy: 0.8412 - val_loss: 1.7412 - val_accuracy: 0.5195\n",
      "Epoch 13/100\n",
      "104/104 [==============================] - 15s 148ms/step - loss: 0.6964 - accuracy: 0.8605 - val_loss: 1.7031 - val_accuracy: 0.5173\n",
      "Epoch 14/100\n",
      "104/104 [==============================] - 16s 154ms/step - loss: 0.6208 - accuracy: 0.8716 - val_loss: 1.7503 - val_accuracy: 0.5216\n",
      "Epoch 15/100\n",
      "104/104 [==============================] - 17s 163ms/step - loss: 0.5596 - accuracy: 0.8831 - val_loss: 1.7190 - val_accuracy: 0.5195\n",
      "Epoch 16/100\n",
      "104/104 [==============================] - 16s 155ms/step - loss: 0.5107 - accuracy: 0.8952 - val_loss: 1.7044 - val_accuracy: 0.5281\n"
     ]
    }
   ],
   "source": [
    "from tensorflow.keras.layers import Embedding, LSTM, Dense, SpatialDropout1D\n",
    "from tensorflow.keras.callbacks import EarlyStopping\n",
    "model = keras.Sequential()\n",
    "model.add(Embedding(MAX_NB_WORDS, EMBEDDING_DIM, input_length=X.shape[1]))\n",
    "model.add(SpatialDropout1D(0.2))\n",
    "model.add(LSTM(100, dropout=0.2, recurrent_dropout=0.2))\n",
    "model.add(Dense(245, activation='softmax'))\n",
    "model.compile(loss='categorical_crossentropy', optimizer='adam', metrics=['accuracy'])\n",
    "\n",
    "epochs = 100\n",
    "batch_size = 40\n",
    "\n",
    "history = model.fit(X_train, Y_train, epochs=epochs, batch_size=batch_size,validation_split=0.1,callbacks=[EarlyStopping(monitor='val_loss', patience=3, min_delta=0.0001)])"
   ]
  },
  {
   "cell_type": "code",
   "execution_count": 186,
   "metadata": {},
   "outputs": [
    {
     "name": "stdout",
     "output_type": "stream",
     "text": [
      "17/17 [==============================] - 0s 21ms/step - loss: 1.6484 - accuracy: 0.5478\n",
      "Test set\n",
      "  Loss: 1.648\n",
      "  Accuracy: 0.548\n"
     ]
    }
   ],
   "source": [
    "accr = model.evaluate(X_test,Y_test)\n",
    "print('Test set\\n  Loss: {:0.3f}\\n  Accuracy: {:0.3f}'.format(accr[0],accr[1]))"
   ]
  },
  {
   "cell_type": "markdown",
   "metadata": {},
   "source": [
    "MAX_SEQUENCE_LENGTH = 64 -> accuracy=0.569\n",
    "\n",
    "MAX_SEQUENCE_LENGTH = 125 -> accuracy=0.575\n",
    "\n",
    "MAX_SEQUENCE_LENGTH = 250 -> accuracy=0.54"
   ]
  },
  {
   "cell_type": "code",
   "execution_count": 183,
   "metadata": {},
   "outputs": [
    {
     "data": {
      "image/png": "[encoded data removed]",
      "text/plain": [
       "<Figure size 640x480 with 1 Axes>"
      ]
     },
     "metadata": {},
     "output_type": "display_data"
    }
   ],
   "source": [
    "from matplotlib import pyplot as plt\n",
    "plt.title('Loss')\n",
    "plt.plot(history.history['loss'], label='train')\n",
    "plt.plot(history.history['val_loss'], label='test')\n",
    "plt.legend()\n",
    "plt.show();"
   ]
  },
  {
   "cell_type": "code",
   "execution_count": 184,
   "metadata": {},
   "outputs": [
    {
     "data": {
      "image/png": "[encoded data removed]",
      "text/plain": [
       "<Figure size 640x480 with 1 Axes>"
      ]
     },
     "metadata": {},
     "output_type": "display_data"
    }
   ],
   "source": [
    "plt.title('Accuracy')\n",
    "plt.plot(history.history['accuracy'], label='train')\n",
    "plt.plot(history.history['val_accuracy'], label='test')\n",
    "plt.legend()\n",
    "plt.show();"
   ]
  },
  {
   "cell_type": "code",
   "execution_count": 187,
   "metadata": {},
   "outputs": [
    {
     "name": "stdout",
     "output_type": "stream",
     "text": [
      "Saved model to disk\n"
     ]
    }
   ],
   "source": [
    "# serialize model to JSON\n",
    "model_json = model.to_json()\n",
    "with open(\"model.json\", \"w\") as json_file:\n",
    "    json_file.write(model_json)\n",
    "# serialize weights to HDF5\n",
    "model.save_weights(\"model.h5\")\n",
    "print(\"Saved model to disk\")"
   ]
  },
  {
   "cell_type": "code",
   "execution_count": 190,
   "metadata": {},
   "outputs": [
    {
     "name": "stdout",
     "output_type": "stream",
     "text": [
      "Loaded model from disk\n"
     ]
    }
   ],
   "source": [
    "# load json and create model\n",
    "json_file = open('model.json', 'r')\n",
    "loaded_model_json = json_file.read()\n",
    "json_file.close()\n",
    "loaded_model = model_from_json(loaded_model_json)\n",
    "# load weights into new model\n",
    "loaded_model.load_weights(\"model.h5\")\n",
    "print(\"Loaded model from disk\")"
   ]
  },
  {
   "cell_type": "code",
   "execution_count": 185,
   "metadata": {},
   "outputs": [
    {
     "name": "stderr",
     "output_type": "stream",
     "text": [
      "/Users/joshvasilvasstar/Documents/clinicchat/tepeyac_chatbot/venv/lib/python3.9/site-packages/keras/src/engine/training.py:3000: UserWarning: You are saving your model as an HDF5 file via `model.save()`. This file format is considered legacy. We recommend using instead the native Keras format, e.g. `model.save('my_model.keras')`.\n",
      "  saving_api.save_model(\n"
     ]
    }
   ],
   "source": [
    "# Save the trained model\n",
    "model.save('topic_classification_model.keras')\n",
    "model.save('topic_classification_model.h5')"
   ]
  },
  {
   "cell_type": "code",
   "execution_count": 135,
   "metadata": {},
   "outputs": [],
   "source": [
    "# Load the model for prediction\n",
    "loaded_model = keras.models.load_model('topic_classification_model.h5')"
   ]
  },
  {
   "cell_type": "code",
   "execution_count": 191,
   "metadata": {},
   "outputs": [
    {
     "name": "stdout",
     "output_type": "stream",
     "text": [
      "WARNING:tensorflow:5 out of the last 9 calls to <function Model.make_predict_function.<locals>.predict_function at 0x2c439e550> triggered tf.function retracing. Tracing is expensive and the excessive number of tracings could be due to (1) creating @tf.function repeatedly in a loop, (2) passing tensors with different shapes, (3) passing Python objects instead of tensors. For (1), please define your @tf.function outside of the loop. For (2), @tf.function has reduce_retracing=True option that can avoid unnecessary retracing. For (3), please refer to https://www.tensorflow.org/guide/function#controlling_retracing and https://www.tensorflow.org/api_docs/python/tf/function for  more details.\n",
      "1/1 [==============================] - 0s 133ms/step\n",
      "Topic: how_can_i_prevent_diabetes Probability: 0.35229325\n",
      "Topic: why_should_i_get_screened_for_diabetes Probability: 0.07603625\n",
      "Topic: what_is_involved_in_screening_for_diabetes Probability: 0.07055103\n",
      "Topic: how_does_vaccination_prevent_diabetes_complications Probability: 0.06846282\n"
     ]
    }
   ],
   "source": [
    "new_complaint = ['why should i screen for diabetes']\n",
    "seq = tokenizer.texts_to_sequences(new_complaint)\n",
    "padded = pad_sequences(seq, maxlen=MAX_SEQUENCE_LENGTH)\n",
    "pred = loaded_model.predict(padded)[0]\n",
    "top_topic_indices = np.argsort(pred)[::-1][:4]\n",
    "labels = df['topic'].unique()\n",
    "# print(pred, labels[np.argmax(pred)])\n",
    "# Print the top 4 predicted topics and their probabilities\n",
    "for idx in top_topic_indices:\n",
    "    topic_label = reverse_mapping_dict[idx]\n",
    "    probability = pred[idx]\n",
    "    print(\"Topic:\", topic_label, \"Probability:\", probability)"
   ]
  },
  {
   "cell_type": "code",
   "execution_count": null,
   "metadata": {},
   "outputs": [],
   "source": []
  }
 ],
 "metadata": {
  "kernelspec": {
   "display_name": "venv",
   "language": "python",
   "name": "python3"
  },
  "language_info": {
   "codemirror_mode": {
    "name": "ipython",
    "version": 3
   },
   "file_extension": ".py",
   "mimetype": "text/x-python",
   "name": "python",
   "nbconvert_exporter": "python",
   "pygments_lexer": "ipython3",
   "version": "3.11.1"
  },
  "orig_nbformat": 4
 },
 "nbformat": 4,
 "nbformat_minor": 2
}
