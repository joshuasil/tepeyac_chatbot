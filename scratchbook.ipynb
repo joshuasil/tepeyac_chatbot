{
 "cells": [
  {
   "cell_type": "code",
   "execution_count": 1,
   "metadata": {},
   "outputs": [],
   "source": [
    "from tensorflow.keras.models import model_from_json\n",
    "import pickle\n",
    "from tensorflow.keras.preprocessing.sequence import pad_sequences\n",
    "import numpy as np"
   ]
  },
  {
   "cell_type": "code",
   "execution_count": 4,
   "metadata": {},
   "outputs": [
    {
     "name": "stdout",
     "output_type": "stream",
     "text": [
      "Loaded model from disk\n"
     ]
    }
   ],
   "source": [
    "# load json and create model\n",
    "json_file = open('model.json', 'r')\n",
    "loaded_model_json = json_file.read()\n",
    "json_file.close()\n",
    "loaded_model = model_from_json(loaded_model_json)\n",
    "# load weights into new model\n",
    "loaded_model.load_weights(\"model.h5\")\n",
    "print(\"Loaded model from disk\")"
   ]
  },
  {
   "cell_type": "code",
   "execution_count": 5,
   "metadata": {},
   "outputs": [],
   "source": [
    "# Load the tokenizer\n",
    "with open('tokenizer.pkl', 'rb') as token_file:\n",
    "    loaded_tokenizer = pickle.load(token_file)"
   ]
  },
  {
   "cell_type": "code",
   "execution_count": 6,
   "metadata": {},
   "outputs": [],
   "source": [
    "MAX_SEQUENCE_LENGTH = 125"
   ]
  },
  {
   "cell_type": "code",
   "execution_count": 7,
   "metadata": {},
   "outputs": [],
   "source": [
    "# Load the reverse mapping dictionary from the pickle file\n",
    "with open('reverse_mapping.pkl', 'rb') as file:\n",
    "    loaded_reverse_mapping = pickle.load(file)"
   ]
  },
  {
   "cell_type": "code",
   "execution_count": 9,
   "metadata": {},
   "outputs": [
    {
     "name": "stdout",
     "output_type": "stream",
     "text": [
      "1/1 [==============================] - 0s 137ms/step\n",
      "Topic: how_can_i_prevent_diabetes Probability: 0.35229325\n",
      "Topic: why_should_i_get_screened_for_diabetes Probability: 0.07603625\n",
      "Topic: what_is_involved_in_screening_for_diabetes Probability: 0.07055103\n",
      "Topic: how_does_vaccination_prevent_diabetes_complications Probability: 0.06846282\n"
     ]
    }
   ],
   "source": [
    "new_complaint = ['why should i screen for diabetes']\n",
    "seq = loaded_tokenizer.texts_to_sequences(new_complaint)\n",
    "padded = pad_sequences(seq, maxlen=MAX_SEQUENCE_LENGTH)\n",
    "pred = loaded_model.predict(padded)[0]\n",
    "top_topic_indices = np.argsort(pred)[::-1][:4]\n",
    "# print(pred, labels[np.argmax(pred)])\n",
    "# Print the top 4 predicted topics and their probabilities\n",
    "for idx in top_topic_indices:\n",
    "    topic_label = loaded_reverse_mapping[idx]\n",
    "    probability = pred[idx]\n",
    "    print(\"Topic:\", topic_label, \"Probability:\", probability)"
   ]
  },
  {
   "cell_type": "code",
   "execution_count": 10,
   "metadata": {},
   "outputs": [
    {
     "data": {
      "text/plain": [
       "['Why should I screen for diabetes?']"
      ]
     },
     "execution_count": 10,
     "metadata": {},
     "output_type": "execute_result"
    }
   ],
   "source": [
    "text = \"Why should I screen for diabetes?\"\n",
    "[text]"
   ]
  },
  {
   "cell_type": "code",
   "execution_count": 26,
   "metadata": {},
   "outputs": [],
   "source": [
    "from sqlalchemy import create_engine, text\n",
    "from dotenv import load_dotenv\n",
    "\n",
    "from get_postgres_str import get_postgres_str\n",
    "\n",
    "## Postgres username, password, and database name\n",
    "postgres_str = get_postgres_str()\n",
    "\n",
    "\n",
    "## Create the Connection\n",
    "engine = create_engine(postgres_str, echo=False)"
   ]
  },
  {
   "cell_type": "code",
   "execution_count": 50,
   "metadata": {},
   "outputs": [],
   "source": [
    "q = text(f'''\n",
    "INSERT INTO public.message(\n",
    "\tfrom_number, received_text, translated_text, text_to_classify, language, intent, confidence, response, numbered_intents)\n",
    "\tVALUES ('7204001070', 'whatever', '', 'whatever', 'en', 'irrelevent', 0.2, 'response', '1.abc 2. ahsjdva 3.');\n",
    "''')"
   ]
  },
  {
   "cell_type": "code",
   "execution_count": 51,
   "metadata": {},
   "outputs": [
    {
     "data": {
      "text/plain": [
       "<sqlalchemy.sql.elements.TextClause object at 0x11628b3d0>"
      ]
     },
     "execution_count": 51,
     "metadata": {},
     "output_type": "execute_result"
    }
   ],
   "source": [
    "q"
   ]
  },
  {
   "cell_type": "code",
   "execution_count": 52,
   "metadata": {},
   "outputs": [],
   "source": [
    "engine = create_engine(postgres_str, echo=False)\n",
    "conn = engine.connect()"
   ]
  },
  {
   "cell_type": "code",
   "execution_count": 53,
   "metadata": {},
   "outputs": [
    {
     "data": {
      "text/plain": [
       "<sqlalchemy.engine.cursor.CursorResult at 0x1164d54e0>"
      ]
     },
     "execution_count": 53,
     "metadata": {},
     "output_type": "execute_result"
    }
   ],
   "source": [
    "conn.execute(q)"
   ]
  },
  {
   "cell_type": "code",
   "execution_count": 25,
   "metadata": {},
   "outputs": [],
   "source": [
    "conn.commit()"
   ]
  },
  {
   "cell_type": "code",
   "execution_count": 90,
   "metadata": {},
   "outputs": [],
   "source": [
    "from_number = '17204001070'\n",
    "q = text(f'''\n",
    "select language, numbered_intents from public.message where from_number = '{from_number}' order by id desc limit 1;\n",
    "''')\n",
    "engine = create_engine(postgres_str, echo=False)\n",
    "conn = engine.connect()\n"
   ]
  },
  {
   "cell_type": "code",
   "execution_count": 91,
   "metadata": {},
   "outputs": [],
   "source": [
    "option_num = 2"
   ]
  },
  {
   "cell_type": "code",
   "execution_count": 99,
   "metadata": {},
   "outputs": [
    {
     "data": {
      "text/plain": [
       "'{\"1\": \"how_do_i_make_time_for_getting_active\", \"2\": \"what_are_ways_to_be_more_active\", \"3\": \"what_are_the_benefits_of_being_active\", \"4\": \"how_can_i_be_motivated_to_stay_active\"}'"
      ]
     },
     "execution_count": 99,
     "metadata": {},
     "output_type": "execute_result"
    }
   ],
   "source": [
    "conn.execute(q).fetchall()[0][1]"
   ]
  },
  {
   "cell_type": "code",
   "execution_count": 100,
   "metadata": {},
   "outputs": [],
   "source": [
    "language = conn.execute(q).fetchall()[0][0]\n",
    "options = conn.execute(q).fetchall()[0][1]\n",
    "conn.close()"
   ]
  },
  {
   "cell_type": "code",
   "execution_count": 101,
   "metadata": {},
   "outputs": [
    {
     "data": {
      "text/plain": [
       "'what_are_ways_to_be_more_active'"
      ]
     },
     "execution_count": 101,
     "metadata": {},
     "output_type": "execute_result"
    }
   ],
   "source": [
    "import json\n",
    "json.loads(options)[str(option_num)]"
   ]
  },
  {
   "cell_type": "code",
   "execution_count": 69,
   "metadata": {},
   "outputs": [
    {
     "name": "stdout",
     "output_type": "stream",
     "text": [
      "None\n"
     ]
    }
   ],
   "source": [
    "import re\n",
    "\n",
    "def extract_text_until_next_integer(input_string, search_integer):\n",
    "    pattern = rf'(?<={search_integer}).*?(?=\\d|$)'\n",
    "    match = re.search(pattern, input_string)\n",
    "    \n",
    "    if match:\n",
    "        return match.group(0).strip()\n",
    "    else:\n",
    "        return None\n",
    "\n",
    "\n",
    "result = extract_text_until_next_integer(var_a, 2)\n",
    "print(result)"
   ]
  },
  {
   "cell_type": "code",
   "execution_count": 104,
   "metadata": {},
   "outputs": [],
   "source": [
    "import pandas as pd\n",
    "intent = 'what_are_the_benefits_of_being_active'\n",
    "df = pd.read_excel('responses.xlsx',engine='openpyxl')"
   ]
  },
  {
   "cell_type": "code",
   "execution_count": 117,
   "metadata": {},
   "outputs": [],
   "source": [
    "from fuzzywuzzy import fuzz"
   ]
  },
  {
   "cell_type": "code",
   "execution_count": 118,
   "metadata": {},
   "outputs": [],
   "source": [
    "target_value = 'what_are_the_benefits_of_being_'\n",
    "\n",
    "# Define a function to calculate similarity\n",
    "def similarity_score(row):\n",
    "    return fuzz.ratio(row['intent'], target_value)"
   ]
  },
  {
   "cell_type": "code",
   "execution_count": 121,
   "metadata": {},
   "outputs": [
    {
     "data": {
      "text/plain": [
       "dialog                            What are the benefits of being active?\n",
       "response               There are two main benefits to being more acti...\n",
       "response_1             <a href=\"https://www.tepeyachealth.org/new-pat...\n",
       "related_intent_1                        What are ways to be more active?\n",
       "related_intent_2          What are some more benefits of getting active?\n",
       "related_intent_3                  How do I make time for getting active?\n",
       "related_intent_4                                 What is a healthy diet?\n",
       "language                                                              en\n",
       "intent                             what_are_the_benefits_of_being_active\n",
       "dialog_es                    ¿Cuáles son los beneficios de estar activo?\n",
       "response_es            Hay dos beneficios principales en ser más acti...\n",
       "response_1_es          <a href=\"https://es.tepeyachealth.org/new-pati...\n",
       "related_intent_1_es          ¿Cuáles son los beneficios de estar activo?\n",
       "related_intent_2_es               ¿Cómo hacer un habito de estar activo?\n",
       "related_intent_3_es    ¿Cómo puedo recordar estar activo durante todo...\n",
       "related_intent_4_es                         ¿Qué es una dieta saludable?\n",
       "language_es                                                          NaN\n",
       "Similarity                                                            91\n",
       "Name: 0, dtype: object"
      ]
     },
     "execution_count": 121,
     "metadata": {},
     "output_type": "execute_result"
    }
   ],
   "source": [
    "temp_df = df.copy()\n",
    "# Apply similarity_score function to each row and create a new column\n",
    "temp_df['Similarity'] = temp_df.apply(similarity_score, axis=1)\n",
    "\n",
    "# Find the row with the highest similarity score\n",
    "filtered_row = temp_df[temp_df['Similarity'] == temp_df['Similarity'].max()].iloc[0]\n",
    "filtered_row"
   ]
  },
  {
   "cell_type": "code",
   "execution_count": 115,
   "metadata": {},
   "outputs": [
    {
     "data": {
      "text/plain": [
       "dialog                            What are the benefits of being active?\n",
       "response               There are two main benefits to being more acti...\n",
       "response_1             <a href=\"https://www.tepeyachealth.org/new-pat...\n",
       "related_intent_1                        What are ways to be more active?\n",
       "related_intent_2          What are some more benefits of getting active?\n",
       "related_intent_3                  How do I make time for getting active?\n",
       "related_intent_4                                 What is a healthy diet?\n",
       "language                                                              en\n",
       "intent                             what_are_the_benefits_of_being_active\n",
       "dialog_es                    ¿Cuáles son los beneficios de estar activo?\n",
       "response_es            Hay dos beneficios principales en ser más acti...\n",
       "response_1_es          <a href=\"https://es.tepeyachealth.org/new-pati...\n",
       "related_intent_1_es          ¿Cuáles son los beneficios de estar activo?\n",
       "related_intent_2_es               ¿Cómo hacer un habito de estar activo?\n",
       "related_intent_3_es    ¿Cómo puedo recordar estar activo durante todo...\n",
       "related_intent_4_es                         ¿Qué es una dieta saludable?\n",
       "language_es                                                          NaN\n",
       "Name: 0, dtype: object"
      ]
     },
     "execution_count": 115,
     "metadata": {},
     "output_type": "execute_result"
    }
   ],
   "source": [
    "filtered_row = df[df['intent'] == intent].iloc[0]\n",
    "filtered_row"
   ]
  },
  {
   "cell_type": "code",
   "execution_count": 107,
   "metadata": {},
   "outputs": [
    {
     "data": {
      "text/plain": [
       "['What are ways to be more active?',\n",
       " 'What are some more benefits of getting active?',\n",
       " 'How do I make time for getting active?',\n",
       " 'What is a healthy diet?']"
      ]
     },
     "execution_count": 107,
     "metadata": {},
     "output_type": "execute_result"
    }
   ],
   "source": [
    "related_intents = [value for value in filtered_row[['related_intent_1', 'related_intent_2', 'related_intent_3','related_intent_4']] if pd.notnull(value)]\n",
    "related_intents"
   ]
  },
  {
   "cell_type": "code",
   "execution_count": 113,
   "metadata": {},
   "outputs": [
    {
     "data": {
      "text/plain": [
       "['what_are_ways_to_be_more_active',\n",
       " 'what_are_some_more_benefits_of_getting_active',\n",
       " 'how_do_i_make_time_for_getting_active',\n",
       " 'what_is_a_healthy_diet']"
      ]
     },
     "execution_count": 113,
     "metadata": {},
     "output_type": "execute_result"
    }
   ],
   "source": [
    "[df[df['dialog'] == value]['intent'].values[0] for value in related_intents]"
   ]
  },
  {
   "cell_type": "code",
   "execution_count": null,
   "metadata": {},
   "outputs": [],
   "source": []
  }
 ],
 "metadata": {
  "kernelspec": {
   "display_name": "venv",
   "language": "python",
   "name": "python3"
  },
  "language_info": {
   "codemirror_mode": {
    "name": "ipython",
    "version": 3
   },
   "file_extension": ".py",
   "mimetype": "text/x-python",
   "name": "python",
   "nbconvert_exporter": "python",
   "pygments_lexer": "ipython3",
   "version": "3.11.1"
  },
  "orig_nbformat": 4
 },
 "nbformat": 4,
 "nbformat_minor": 2
}
